{
 "cells": [
  {
   "cell_type": "markdown",
   "metadata": {},
   "source": [
    "# COVID-19 Corpus Analysis"
   ]
  },
  {
   "cell_type": "code",
   "execution_count": 1,
   "metadata": {},
   "outputs": [
    {
     "name": "stderr",
     "output_type": "stream",
     "text": [
      "[nltk_data] Downloading package stopwords to\n",
      "[nltk_data]     /home/CAMPUS/jrab2017/nltk_data...\n",
      "[nltk_data]   Package stopwords is already up-to-date!\n",
      "[nltk_data] Downloading package wordnet to\n",
      "[nltk_data]     /home/CAMPUS/jrab2017/nltk_data...\n",
      "[nltk_data]   Package wordnet is already up-to-date!\n"
     ]
    }
   ],
   "source": [
    "import string\n",
    "import re\n",
    "import spacy \n",
    "import nltk\n",
    "import numpy as np \n",
    "import pandas as pd\n",
    "import matplotlib.pyplot as plt \n",
    "import seaborn as sns \n",
    "from nltk.stem import WordNetLemmatizer\n",
    "from nltk import RegexpTokenizer\n",
    "from nltk.stem.porter import PorterStemmer\n",
    "from nltk.corpus import stopwords\n",
    "\n",
    "nltk.download('stopwords')\n",
    "nltk.download('wordnet')\n",
    "\n",
    "#To Temporarily Remove Deprecation Warning\n",
    "import warnings\n",
    "#warnings.filterwarnings('ignore')\n",
    "warnings.filterwarnings(\"ignore\", category=DeprecationWarning)"
   ]
  },
  {
   "cell_type": "code",
   "execution_count": 2,
   "metadata": {},
   "outputs": [
    {
     "name": "stdout",
     "output_type": "stream",
     "text": [
      "<class 'pandas.core.frame.DataFrame'>\n",
      "Int64Index: 17894 entries, 0 to 17893\n",
      "Data columns (total 2 columns):\n",
      " #   Column  Non-Null Count  Dtype \n",
      "---  ------  --------------  ----- \n",
      " 0   title   17894 non-null  object\n",
      " 1   label   17894 non-null  object\n",
      "dtypes: object(2)\n",
      "memory usage: 419.4+ KB\n"
     ]
    }
   ],
   "source": [
    "data = pd.read_csv('/raid/tft-data/data-covid/covid_combined.csv')\n",
    "data.dropna(inplace=True)\n",
    "data.info()"
   ]
  },
  {
   "cell_type": "code",
   "execution_count": 3,
   "metadata": {
    "scrolled": true
   },
   "outputs": [
    {
     "data": {
      "text/plain": [
       "<matplotlib.axes._subplots.AxesSubplot at 0x7f164d162ed0>"
      ]
     },
     "execution_count": 3,
     "metadata": {},
     "output_type": "execute_result"
    },
    {
     "data": {
      "image/png": "[encoded data removed]",
      "text/plain": [
       "<Figure size 432x288 with 1 Axes>"
      ]
     },
     "metadata": {
      "needs_background": "light"
     },
     "output_type": "display_data"
    }
   ],
   "source": [
    "sns.countplot(data['label'])"
   ]
  },
  {
   "cell_type": "code",
   "execution_count": 4,
   "metadata": {},
   "outputs": [
    {
     "data": {
      "text/plain": [
       "count    17894.000000\n",
       "mean        13.437577\n",
       "std          8.544929\n",
       "min          1.000000\n",
       "25%          8.000000\n",
       "50%         11.000000\n",
       "75%         16.000000\n",
       "max         84.000000\n",
       "Name: length, dtype: float64"
      ]
     },
     "execution_count": 4,
     "metadata": {},
     "output_type": "execute_result"
    },
    {
     "data": {
      "image/png": "[encoded data removed]",
      "text/plain": [
       "<Figure size 432x288 with 1 Axes>"
      ]
     },
     "metadata": {
      "needs_background": "light"
     },
     "output_type": "display_data"
    }
   ],
   "source": [
    "data['length'] = data['title'].apply(lambda x: len(x.split(' ')))\n",
    "sns.distplot(data['length'])\n",
    "data['length'].describe()"
   ]
  },
  {
   "cell_type": "code",
   "execution_count": 5,
   "metadata": {},
   "outputs": [],
   "source": [
    "# main tokenizing function\n",
    "def tokenize_line(line, chars_to_exclude, stopwords, tokenizer, stem_tokens=False, stemmer=None, lemm_tokens=False, lemmatizer=None):\n",
    "    # removing unwanted characters and numbers from the string\n",
    "    pattern = '[' + '|'.join(list(chars_to_exclude)) + '|\\d]*'\n",
    "    line = re.sub(pattern, \"\", line).lower()\n",
    "\n",
    "    # generating tokens\n",
    "    tokens = [token for token in tokenizer.tokenize(line) if token not in stopwords]\n",
    "    \n",
    "    # stemming the tokens if the user wants to\n",
    "    if stem_tokens:\n",
    "        tokens = [stemmer.stem(token) for token in tokens]\n",
    "\n",
    "    # lemmatizing the tokens if the user wants to\n",
    "    if lemm_tokens:\n",
    "        tokens = [lemmatizer.lemmatize(token) for token in tokens]\n",
    "    \n",
    "    return tokens"
   ]
  },
  {
   "cell_type": "code",
   "execution_count": 6,
   "metadata": {},
   "outputs": [],
   "source": [
    "# function to help with tokenizing columns\n",
    "def tokenize_lines(lines, chars_to_exclude, stopwords, tokenizer=None, stem_tokens=False, stemmer=None, lemm_tokens=False, lemmatizer=None):\n",
    "\n",
    "    all_tokens = [tokenize_line(line, chars_to_exclude, stopwords, tokenizer, stem_tokens, stemmer, lemm_tokens, lemmatizer) for line in lines]\n",
    "\n",
    "    return np.array(all_tokens)"
   ]
  },
  {
   "cell_type": "code",
   "execution_count": 7,
   "metadata": {},
   "outputs": [],
   "source": [
    "# the default parameters for now\n",
    "def get_default_tokenization_params():\n",
    "    chars_to_exclude = string.punctuation\n",
    "    english_stopwords = set(stopwords.words('english'))\n",
    "    tokenizer = RegexpTokenizer(\"\\w+\")\n",
    "\n",
    "    #Modify these according to the user's choices\n",
    "    stem_tokens = False\n",
    "    stemmer = PorterStemmer()\n",
    "\n",
    "    lemm_tokens = True\n",
    "    lemmatizer = WordNetLemmatizer()\n",
    "\n",
    "    return (chars_to_exclude, english_stopwords, tokenizer, stem_tokens, stemmer, lemm_tokens, lemmatizer)"
   ]
  },
  {
   "cell_type": "code",
   "execution_count": 8,
   "metadata": {},
   "outputs": [
    {
     "name": "stderr",
     "output_type": "stream",
     "text": [
      "/home/CAMPUS/jrab2017/anaconda3/lib/python3.7/site-packages/ipykernel_launcher.py:6: VisibleDeprecationWarning: Creating an ndarray from ragged nested sequences (which is a list-or-tuple of lists-or-tuples-or ndarrays with different lengths or shapes) is deprecated. If you meant to do this, you must specify 'dtype=object' when creating the ndarray\n",
      "  \n"
     ]
    }
   ],
   "source": [
    "X = tokenize_lines(data['title'], *get_default_tokenization_params())\n",
    "Y = data['label']\n",
    "data_processed = pd.DataFrame(({'title': data['title'], 'title': X, 'label': Y}))"
   ]
  },
  {
   "cell_type": "markdown",
   "metadata": {},
   "source": [
    "## Topic Modeling using LDA "
   ]
  },
  {
   "cell_type": "code",
   "execution_count": 9,
   "metadata": {},
   "outputs": [],
   "source": [
    "# Import all necessary libraries\n",
    "# Gensim library for additional topic modeling and statistical anlysis\n",
    "# Corpora module implements dictionary-mapping between words and corresponding integer IDs\n",
    "import gensim\n",
    "import pickle\n",
    "import pyLDAvis.sklearn\n",
    "import pyLDAvis.gensim_models\n",
    "from gensim import corpora\n",
    "from gensim.models import CoherenceModel\n",
    "from sklearn.decomposition import LatentDirichletAllocation\n",
    "\n",
    "html_dir = '~/Project/cs152sp21-project/Corpus Analysis/htmls/'\n",
    "num_topics = 10 \n",
    "num_features = 100"
   ]
  },
  {
   "cell_type": "markdown",
   "metadata": {},
   "source": [
    "### Real News"
   ]
  },
  {
   "cell_type": "code",
   "execution_count": 10,
   "metadata": {},
   "outputs": [],
   "source": [
    "real_news = data_processed[data_processed['label'] == 'Real']\n",
    "real_text= real_news['title']\n",
    "real_gensim_dictionary = corpora.Dictionary(real_text)\n",
    "\n",
    "#creating bag of words (bow) w/ real_text\n",
    "real_gensim_corpus = [real_gensim_dictionary.doc2bow(token, allow_update=True) for token in real_text]\n",
    "\n",
    "#saving dictionary and bow (via pickle )to use for predictions below\n",
    "real_corpus_file = 'real_gensim_corpus.pkl'\n",
    "pickle.dump(real_gensim_corpus, open(real_corpus_file, 'wb'))\n",
    "real_gensim_dictionary.save('real_gensim_dictionary.gensim')"
   ]
  },
  {
   "cell_type": "code",
   "execution_count": 11,
   "metadata": {},
   "outputs": [],
   "source": [
    "real_lda_model = gensim.models.ldamodel.LdaModel(real_gensim_corpus, num_topics=num_topics, id2word=real_gensim_dictionary, passes=10)\n",
    "real_lda_model.save('real_gensim_model.gensim')"
   ]
  },
  {
   "cell_type": "code",
   "execution_count": 12,
   "metadata": {},
   "outputs": [
    {
     "name": "stdout",
     "output_type": "stream",
     "text": [
      "(0, '0.050*\"covid\" + 0.041*\"mask\" + 0.030*\"tuberculosis\" + 0.028*\"pandemic\" + 0.023*\"wear\"')\n",
      "(1, '0.087*\"food\" + 0.037*\"covid\" + 0.034*\"safe\" + 0.032*\"virus\" + 0.029*\"home\"')\n",
      "(2, '0.064*\"covid\" + 0.033*\"measure\" + 0.026*\"used\" + 0.024*\"coronavirus\" + 0.020*\"use\"')\n",
      "(3, '0.084*\"covid\" + 0.040*\"health\" + 0.038*\"risk\" + 0.018*\"guidance\" + 0.017*\"tobacco\"')\n",
      "(4, '0.067*\"covid\" + 0.026*\"health\" + 0.025*\"u\" + 0.025*\"case\" + 0.019*\"likely\"')\n",
      "(5, '0.076*\"covid\" + 0.051*\"workplace\" + 0.032*\"malaria\" + 0.023*\"protect\" + 0.022*\"country\"')\n",
      "(6, '0.086*\"covid\" + 0.030*\"dexamethasone\" + 0.025*\"vaccine\" + 0.022*\"sars\" + 0.021*\"test\"')\n",
      "(7, '0.087*\"covid\" + 0.029*\"risk\" + 0.025*\"people\" + 0.021*\"state\" + 0.019*\"know\"')\n",
      "(8, '0.105*\"covid\" + 0.019*\"breastfeed\" + 0.018*\"get\" + 0.018*\"people\" + 0.016*\"symptom\"')\n",
      "(9, '0.049*\"covid\" + 0.033*\"care\" + 0.029*\"confirmed\" + 0.028*\"suspected\" + 0.023*\"healthcare\"')\n"
     ]
    }
   ],
   "source": [
    "#Print 5 words per topic\n",
    "topics = real_lda_model.print_topics(num_words=5)\n",
    "for topic in topics:\n",
    "    print(topic)"
   ]
  },
  {
   "cell_type": "code",
   "execution_count": 13,
   "metadata": {},
   "outputs": [
    {
     "name": "stdout",
     "output_type": "stream",
     "text": [
      "\n",
      "Perplexity: -7.389577007199733\n",
      "\n",
      "Coherence Score: 0.47675069112416313\n"
     ]
    }
   ],
   "source": [
    "coherence_score_lda = CoherenceModel(model=real_lda_model, texts=real_text, dictionary=real_gensim_dictionary, coherence='c_v')\n",
    "coherence_score = coherence_score_lda.get_coherence()\n",
    "\n",
    "print('\\nPerplexity:', real_lda_model.log_perplexity(real_gensim_corpus))\n",
    "print('\\nCoherence Score:', coherence_score)"
   ]
  },
  {
   "cell_type": "code",
   "execution_count": 14,
   "metadata": {},
   "outputs": [
    {
     "name": "stdout",
     "output_type": "stream",
     "text": [
      "Real News LDA Model saved as HTML File!\n"
     ]
    }
   ],
   "source": [
    "real_gensim_dictionary = gensim.corpora.Dictionary.load('real_gensim_dictionary.gensim')\n",
    "real_gensim_corpus = pickle.load(open(real_corpus_file, 'rb'))\n",
    "real_lda_model = gensim.models.ldamodel.LdaModel.load('real_gensim_model.gensim')\n",
    "\n",
    "\n",
    "real_lda_visualization = pyLDAvis.gensim_models.prepare(real_lda_model, real_gensim_corpus, real_gensim_dictionary, sort_topics=False)\n",
    "pyLDAvis.enable_notebook()\n",
    "pyLDAvis.save_html(real_lda_visualization, 'covid_real_news_lda.html')\n",
    "print('Real News LDA Model saved as HTML File!')"
   ]
  },
  {
   "cell_type": "markdown",
   "metadata": {},
   "source": [
    "### Fake News"
   ]
  },
  {
   "cell_type": "code",
   "execution_count": 15,
   "metadata": {},
   "outputs": [],
   "source": [
    "# Prepare relevant data \n",
    "fake_news = data_processed[data_processed['label'] == 'Fake']\n",
    "fake_text = fake_news['title']\n",
    "fake_gensim_dictionary = corpora.Dictionary(fake_text)\n",
    "\n",
    "# creating bag of words (bow) w/ fake text\n",
    "fake_gensim_corpus = [fake_gensim_dictionary.doc2bow(token, allow_update=True) for token in fake_text]\n",
    "\n",
    "#pickling useful for efficiently storing data to be used later\n",
    "fake_corpus_file = 'fake_gensim_corpus.pkl'\n",
    "pickle.dump(fake_gensim_corpus, open(fake_corpus_file, 'wb'))\n",
    "fake_gensim_dictionary.save('fake_gensim_dictionary.gensim')"
   ]
  },
  {
   "cell_type": "code",
   "execution_count": 16,
   "metadata": {},
   "outputs": [],
   "source": [
    "fake_lda_model = gensim.models.ldamodel.LdaModel(fake_gensim_corpus, num_topics=num_topics, id2word=fake_gensim_dictionary, passes=10)\n",
    "fake_lda_model.save('fake_gensim_model.gensim')"
   ]
  },
  {
   "cell_type": "code",
   "execution_count": 17,
   "metadata": {},
   "outputs": [
    {
     "name": "stdout",
     "output_type": "stream",
     "text": [
      "(0, '0.040*\"covid\" + 0.028*\"lockdown\" + 0.026*\"coronavirus\" + 0.018*\"cure\" + 0.015*\"video\"')\n",
      "(1, '0.034*\"coronavirus\" + 0.018*\"â\" + 0.017*\"covid\" + 0.016*\"lockdown\" + 0.010*\"muslim\"')\n",
      "(2, '0.046*\"mask\" + 0.027*\"covid\" + 0.019*\"face\" + 0.018*\"coronavirus\" + 0.017*\"vaccine\"')\n",
      "(3, '0.026*\"social\" + 0.018*\"covid\" + 0.014*\"â\" + 0.014*\"coronavirus\" + 0.013*\"video\"')\n",
      "(4, '0.068*\"covid\" + 0.031*\"case\" + 0.031*\"coronavirus\" + 0.024*\"death\" + 0.023*\"test\"')\n",
      "(5, '0.021*\"gate\" + 0.021*\"bill\" + 0.020*\"president\" + 0.019*\"covid\" + 0.016*\"coronavirus\"')\n",
      "(6, '0.024*\"coronavirus\" + 0.018*\"migrant\" + 0.014*\"covid\" + 0.012*\"home\" + 0.012*\"health\"')\n",
      "(7, '0.039*\"coronavirus\" + 0.020*\"covid\" + 0.015*\"â\" + 0.013*\"pandemic\" + 0.010*\"say\"')\n",
      "(8, '0.052*\"covid\" + 0.023*\"google\" + 0.020*\"coronavirus\" + 0.010*\"flu\" + 0.010*\"people\"')\n",
      "(9, '0.052*\"covid\" + 0.029*\"post\" + 0.028*\"claim\" + 0.027*\"facebook\" + 0.023*\"shared\"')\n"
     ]
    }
   ],
   "source": [
    "#Print 5 words per topic\n",
    "fake_topics = fake_lda_model.print_topics(num_words=5)\n",
    "for fake_topic in fake_topics:\n",
    "    print(fake_topic)"
   ]
  },
  {
   "cell_type": "code",
   "execution_count": 18,
   "metadata": {},
   "outputs": [
    {
     "name": "stdout",
     "output_type": "stream",
     "text": [
      "\n",
      "Perplexity: -7.620053122114204\n",
      "\n",
      "Coherence Score: 0.2942610099819178\n"
     ]
    }
   ],
   "source": [
    "coherence_score_lda = CoherenceModel(model=fake_lda_model, texts= fake_text, dictionary=fake_gensim_dictionary, coherence='c_v')\n",
    "coherence_score = coherence_score_lda.get_coherence()\n",
    "\n",
    "print('\\nPerplexity:', fake_lda_model.log_perplexity(fake_gensim_corpus))\n",
    "print('\\nCoherence Score:', coherence_score)"
   ]
  },
  {
   "cell_type": "code",
   "execution_count": 19,
   "metadata": {},
   "outputs": [
    {
     "name": "stdout",
     "output_type": "stream",
     "text": [
      "Fake News LDA Model saved as HTML File!\n"
     ]
    }
   ],
   "source": [
    "fake_gensim_dictionary = gensim.corpora.Dictionary.load('fake_gensim_dictionary.gensim')\n",
    "fake_gensim_corpus = pickle.load(open(fake_corpus_file, 'rb'))\n",
    "fake_lda_model = gensim.models.ldamodel.LdaModel.load('fake_gensim_model.gensim')\n",
    "\n",
    "fake_lda_visualization = pyLDAvis.gensim_models.prepare(fake_lda_model, fake_gensim_corpus, fake_gensim_dictionary, sort_topics=False)\n",
    "pyLDAvis.enable_notebook()\n",
    "pyLDAvis.save_html(fake_lda_visualization, 'covid_fake_news_lda.html')\n",
    "print('Fake News LDA Model saved as HTML File!')"
   ]
  },
  {
   "cell_type": "code",
   "execution_count": null,
   "metadata": {},
   "outputs": [],
   "source": []
  }
 ],
 "metadata": {
  "kernelspec": {
   "display_name": "Python 3",
   "language": "python",
   "name": "python3"
  },
  "language_info": {
   "codemirror_mode": {
    "name": "ipython",
    "version": 3
   },
   "file_extension": ".py",
   "mimetype": "text/x-python",
   "name": "python",
   "nbconvert_exporter": "python",
   "pygments_lexer": "ipython3",
   "version": "3.7.6"
  }
 },
 "nbformat": 4,
 "nbformat_minor": 4
}
