{
 "cells": [
  {
   "cell_type": "code",
   "execution_count": 9,
   "metadata": {},
   "outputs": [],
   "source": [
    "import os\n",
    "import glob\n",
    "import pandas as pd"
   ]
  },
  {
   "cell_type": "code",
   "execution_count": 10,
   "metadata": {},
   "outputs": [],
   "source": [
    "data_dir = '/raid/tft-data/data-covid/Claims/'"
   ]
  },
  {
   "cell_type": "code",
   "execution_count": 11,
   "metadata": {},
   "outputs": [],
   "source": [
    "def label(file_type):\n",
    "    df = pd.read_csv(data_dir + file_type + '.csv')\n",
    "    df[\"label\"] = file_type\n",
    "    df.to_csv(data_dir + file_type + '-Claims.csv', index=False)"
   ]
  },
  {
   "cell_type": "code",
   "execution_count": 12,
   "metadata": {},
   "outputs": [],
   "source": [
    "def combine_same(file_type):\n",
    "        os.chdir(data_dir + file_type)\n",
    "        extension = 'csv'\n",
    "        all_filenames = [i for i in glob.glob('*.{}'.format(extension))]\n",
    "        \n",
    "        #combine all files in the list\n",
    "        combined_csv = pd.concat([pd.read_csv(f) for f in all_filenames ])\n",
    "        \n",
    "        #export to csv\n",
    "        combined_csv.to_csv(data_dir + file_type + '.csv', index=False, encoding='utf-8-sig')"
   ]
  },
  {
   "cell_type": "code",
   "execution_count": 13,
   "metadata": {},
   "outputs": [],
   "source": [
    "def combine_different():\n",
    "    os.chdir(data_dir)\n",
    "    extension = 'csv'\n",
    "    all_filenames = [i for i in glob.glob('*.{}'.format(extension))]\n",
    "        \n",
    "    #combine all files in the list\n",
    "    combined_csv = pd.concat([pd.read_csv(f) for f in all_filenames ])\n",
    "    #export to csv\n",
    "    combined_csv.to_csv(data_dir + \"covid_combined_claims.csv\", index=False, encoding='utf-8-sig')"
   ]
  },
  {
   "cell_type": "code",
   "execution_count": 14,
   "metadata": {},
   "outputs": [],
   "source": [
    "combine_same('Fake')\n",
    "label('Fake')\n",
    "combine_same('Real')\n",
    "label('Real')"
   ]
  },
  {
   "cell_type": "code",
   "execution_count": 15,
   "metadata": {},
   "outputs": [],
   "source": [
    "combine_different()"
   ]
  },
  {
   "cell_type": "code",
   "execution_count": null,
   "metadata": {},
   "outputs": [],
   "source": []
  }
 ],
 "metadata": {
  "kernelspec": {
   "display_name": "Python 3",
   "language": "python",
   "name": "python3"
  },
  "language_info": {
   "codemirror_mode": {
    "name": "ipython",
    "version": 3
   },
   "file_extension": ".py",
   "mimetype": "text/x-python",
   "name": "python",
   "nbconvert_exporter": "python",
   "pygments_lexer": "ipython3",
   "version": "3.7.6"
  }
 },
 "nbformat": 4,
 "nbformat_minor": 4
}
