{
 "cells": [
  {
   "cell_type": "markdown",
   "metadata": {},
   "source": [
    "# Corpus Analysis"
   ]
  },
  {
   "cell_type": "code",
   "execution_count": 1,
   "metadata": {},
   "outputs": [
    {
     "name": "stderr",
     "output_type": "stream",
     "text": [
      "[nltk_data] Downloading package stopwords to\n",
      "[nltk_data]     /home/CAMPUS/jrab2017/nltk_data...\n",
      "[nltk_data]   Package stopwords is already up-to-date!\n",
      "[nltk_data] Downloading package wordnet to\n",
      "[nltk_data]     /home/CAMPUS/jrab2017/nltk_data...\n",
      "[nltk_data]   Package wordnet is already up-to-date!\n"
     ]
    }
   ],
   "source": [
    "import string\n",
    "import re\n",
    "import spacy \n",
    "import nltk\n",
    "import numpy as np \n",
    "import pandas as pd\n",
    "import matplotlib.pyplot as plt \n",
    "import seaborn as sns \n",
    "from nltk.stem import WordNetLemmatizer\n",
    "from nltk import RegexpTokenizer\n",
    "from nltk.stem.porter import PorterStemmer\n",
    "from nltk.corpus import stopwords\n",
    "\n",
    "nltk.download('stopwords')\n",
    "nltk.download('wordnet')\n",
    "\n",
    "#To Temporarily Remove Deprecation Warning\n",
    "import warnings\n",
    "#warnings.filterwarnings('ignore')\n",
    "warnings.filterwarnings(\"ignore\", category=DeprecationWarning)\n"
   ]
  },
  {
   "cell_type": "markdown",
   "metadata": {},
   "source": [
    "## Reading the Data File"
   ]
  },
  {
   "cell_type": "code",
   "execution_count": 2,
   "metadata": {},
   "outputs": [
    {
     "name": "stdout",
     "output_type": "stream",
     "text": [
      "<class 'pandas.core.frame.DataFrame'>\n",
      "Int64Index: 44898 entries, 0 to 44897\n",
      "Data columns (total 5 columns):\n",
      " #   Column   Non-Null Count  Dtype \n",
      "---  ------   --------------  ----- \n",
      " 0   title    44898 non-null  object\n",
      " 1   text     44898 non-null  object\n",
      " 2   subject  44898 non-null  object\n",
      " 3   date     44898 non-null  object\n",
      " 4   label    44898 non-null  object\n",
      "dtypes: object(5)\n",
      "memory usage: 2.1+ MB\n"
     ]
    }
   ],
   "source": [
    "data = pd.read_csv('/raid/tft-data/data/combined_news.csv')\n",
    "data.dropna(inplace=True)\n",
    "data.info()"
   ]
  },
  {
   "cell_type": "code",
   "execution_count": 3,
   "metadata": {},
   "outputs": [
    {
     "data": {
      "text/plain": [
       "<matplotlib.axes._subplots.AxesSubplot at 0x7f7aaea1fd90>"
      ]
     },
     "execution_count": 3,
     "metadata": {},
     "output_type": "execute_result"
    },
    {
     "data": {
      "image/png": "[encoded data removed]",
      "text/plain": [
       "<Figure size 432x288 with 1 Axes>"
      ]
     },
     "metadata": {
      "needs_background": "light"
     },
     "output_type": "display_data"
    }
   ],
   "source": [
    "sns.countplot(data['label'])"
   ]
  },
  {
   "cell_type": "code",
   "execution_count": 4,
   "metadata": {},
   "outputs": [
    {
     "data": {
      "text/plain": [
       "count    44898.000000\n",
       "mean       415.760412\n",
       "std        361.648003\n",
       "min          1.000000\n",
       "25%        208.000000\n",
       "50%        371.000000\n",
       "75%        525.000000\n",
       "max       8436.000000\n",
       "Name: length, dtype: float64"
      ]
     },
     "execution_count": 4,
     "metadata": {},
     "output_type": "execute_result"
    },
    {
     "data": {
      "image/png": "[encoded data removed]",
      "text/plain": [
       "<Figure size 432x288 with 1 Axes>"
      ]
     },
     "metadata": {
      "needs_background": "light"
     },
     "output_type": "display_data"
    }
   ],
   "source": [
    "data['length'] = data['text'].apply(lambda x: len(x.split(' ')))\n",
    "sns.distplot(data['length'])\n",
    "data['length'].describe()"
   ]
  },
  {
   "cell_type": "markdown",
   "metadata": {},
   "source": [
    "## Preparing the Data "
   ]
  },
  {
   "cell_type": "code",
   "execution_count": 5,
   "metadata": {},
   "outputs": [],
   "source": [
    "# main tokenizing function\n",
    "def tokenize_line(line, chars_to_exclude, stopwords, tokenizer, stem_tokens=False, stemmer=None, lemm_tokens=False, lemmatizer=None):\n",
    "    # removing unwanted characters and numbers from the string\n",
    "    pattern = '[' + '|'.join(list(chars_to_exclude)) + '|\\d]*'\n",
    "    line = re.sub(pattern, \"\", line).lower()\n",
    "\n",
    "    # generating tokens\n",
    "    tokens = [token for token in tokenizer.tokenize(line) if token not in stopwords]\n",
    "    \n",
    "    # stemming the tokens if the user wants to\n",
    "    if stem_tokens:\n",
    "        tokens = [stemmer.stem(token) for token in tokens]\n",
    "\n",
    "    # lemmatizing the tokens if the user wants to\n",
    "    if lemm_tokens:\n",
    "        tokens = [lemmatizer.lemmatize(token) for token in tokens]\n",
    "    \n",
    "    return tokens"
   ]
  },
  {
   "cell_type": "code",
   "execution_count": 6,
   "metadata": {},
   "outputs": [],
   "source": [
    "# function to help with tokenizing columns\n",
    "def tokenize_lines(lines, chars_to_exclude, stopwords, tokenizer=None, stem_tokens=False, stemmer=None, lemm_tokens=False, lemmatizer=None):\n",
    "\n",
    "    all_tokens = [tokenize_line(line, chars_to_exclude, stopwords, tokenizer, stem_tokens, stemmer, lemm_tokens, lemmatizer) for line in lines]\n",
    "\n",
    "    return np.array(all_tokens)"
   ]
  },
  {
   "cell_type": "code",
   "execution_count": 7,
   "metadata": {},
   "outputs": [],
   "source": [
    "# the default parameters for now\n",
    "def get_default_tokenization_params():\n",
    "    chars_to_exclude = string.punctuation\n",
    "    english_stopwords = set(stopwords.words('english'))\n",
    "    tokenizer = RegexpTokenizer(\"\\w+\")\n",
    "\n",
    "    #Modify these according to the user's choices\n",
    "    stem_tokens = False\n",
    "    stemmer = PorterStemmer()\n",
    "\n",
    "    lemm_tokens = True\n",
    "    lemmatizer = WordNetLemmatizer()\n",
    "\n",
    "    return (chars_to_exclude, english_stopwords, tokenizer, stem_tokens, stemmer, lemm_tokens, lemmatizer)"
   ]
  },
  {
   "cell_type": "code",
   "execution_count": 8,
   "metadata": {},
   "outputs": [
    {
     "name": "stderr",
     "output_type": "stream",
     "text": [
      "/home/CAMPUS/jrab2017/anaconda3/lib/python3.7/site-packages/ipykernel_launcher.py:6: VisibleDeprecationWarning: Creating an ndarray from ragged nested sequences (which is a list-or-tuple of lists-or-tuples-or ndarrays with different lengths or shapes) is deprecated. If you meant to do this, you must specify 'dtype=object' when creating the ndarray\n",
      "  \n"
     ]
    }
   ],
   "source": [
    "X = tokenize_lines(data['text'], *get_default_tokenization_params())\n",
    "Y = data['label']\n",
    "data_processed = pd.DataFrame(({'title': data['title'], 'text': X, 'label': Y}))"
   ]
  },
  {
   "cell_type": "markdown",
   "metadata": {},
   "source": [
    "# Performing Topic Modeling using LDA "
   ]
  },
  {
   "cell_type": "code",
   "execution_count": 9,
   "metadata": {},
   "outputs": [],
   "source": [
    "# Import all necessary libraries\n",
    "# Gensim library for additional topic modeling and statistical anlysis\n",
    "# Corpora module implements dictionary-mapping between words and corresponding integer IDs\n",
    "import gensim\n",
    "import pickle\n",
    "import pyLDAvis.sklearn\n",
    "import pyLDAvis.gensim_models\n",
    "from gensim import corpora\n",
    "from gensim.models import CoherenceModel\n",
    "from sklearn.decomposition import LatentDirichletAllocation\n",
    "\n",
    "html_dir = '~/Project/cs152sp21-project/Corpus Analysis/htmls/'\n",
    "num_topics = 10 \n",
    "num_features = 100"
   ]
  },
  {
   "cell_type": "markdown",
   "metadata": {},
   "source": [
    "## Real News "
   ]
  },
  {
   "cell_type": "markdown",
   "metadata": {},
   "source": [
    "### Creating the Model"
   ]
  },
  {
   "cell_type": "code",
   "execution_count": 10,
   "metadata": {},
   "outputs": [],
   "source": [
    "real_news = data_processed[data_processed['label'] == 'Real']\n",
    "real_text= real_news['text']\n",
    "real_gensim_dictionary = corpora.Dictionary(real_text)\n",
    "\n",
    "#creating bag of words (bow) w/ real_text\n",
    "real_gensim_corpus = [real_gensim_dictionary.doc2bow(token, allow_update=True) for token in real_text]\n",
    "\n",
    "#saving dictionary and bow (via pickle )to use for predictions below\n",
    "real_corpus_file = 'real_gensim_corpus.pkl'\n",
    "pickle.dump(real_gensim_corpus, open(real_corpus_file, 'wb'))\n",
    "real_gensim_dictionary.save('real_gensim_dictionary.gensim')"
   ]
  },
  {
   "cell_type": "code",
   "execution_count": 11,
   "metadata": {},
   "outputs": [],
   "source": [
    "real_lda_model = gensim.models.ldamodel.LdaModel(real_gensim_corpus, num_topics=num_topics, id2word=real_gensim_dictionary, passes=10)\n",
    "real_lda_model.save('real_gensim_model.gensim')"
   ]
  },
  {
   "cell_type": "code",
   "execution_count": 12,
   "metadata": {},
   "outputs": [
    {
     "name": "stdout",
     "output_type": "stream",
     "text": [
      "(0, '0.025*\"said\" + 0.017*\"state\" + 0.016*\"u\" + 0.010*\"united\" + 0.009*\"iran\"')\n",
      "(1, '0.022*\"said\" + 0.009*\"oil\" + 0.008*\"u\" + 0.008*\"hurricane\" + 0.007*\"million\"')\n",
      "(2, '0.029*\"china\" + 0.020*\"said\" + 0.019*\"u\" + 0.013*\"trump\" + 0.013*\"trade\"')\n",
      "(3, '0.018*\"tax\" + 0.014*\"percent\" + 0.014*\"said\" + 0.012*\"would\" + 0.012*\"year\"')\n",
      "(4, '0.028*\"republican\" + 0.021*\"vote\" + 0.020*\"house\" + 0.020*\"said\" + 0.019*\"senate\"')\n",
      "(5, '0.039*\"trump\" + 0.019*\"said\" + 0.011*\"president\" + 0.011*\"republican\" + 0.010*\"clinton\"')\n",
      "(6, '0.018*\"party\" + 0.018*\"said\" + 0.011*\"government\" + 0.011*\"minister\" + 0.010*\"eu\"')\n",
      "(7, '0.032*\"court\" + 0.017*\"state\" + 0.016*\"said\" + 0.015*\"law\" + 0.011*\"case\"')\n",
      "(8, '0.025*\"said\" + 0.010*\"people\" + 0.008*\"police\" + 0.008*\"reuters\" + 0.007*\"year\"')\n",
      "(9, '0.025*\"said\" + 0.011*\"u\" + 0.010*\"investigation\" + 0.009*\"reuters\" + 0.009*\"official\"')\n"
     ]
    }
   ],
   "source": [
    "#Print 5 words per topic\n",
    "topics = real_lda_model.print_topics(num_words=5)\n",
    "for topic in topics:\n",
    "    print(topic)"
   ]
  },
  {
   "cell_type": "markdown",
   "metadata": {},
   "source": [
    "### Evaluation and Visualization"
   ]
  },
  {
   "cell_type": "code",
   "execution_count": 13,
   "metadata": {},
   "outputs": [
    {
     "name": "stdout",
     "output_type": "stream",
     "text": [
      "\n",
      "Perplexity: -8.181132448372187\n",
      "\n",
      "Coherence Score: 0.46556699653055683\n"
     ]
    }
   ],
   "source": [
    "coherence_score_lda = CoherenceModel(model=real_lda_model, texts=real_text, dictionary=real_gensim_dictionary, coherence='c_v')\n",
    "coherence_score = coherence_score_lda.get_coherence()\n",
    "\n",
    "print('\\nPerplexity:', real_lda_model.log_perplexity(real_gensim_corpus))\n",
    "print('\\nCoherence Score:', coherence_score)"
   ]
  },
  {
   "cell_type": "code",
   "execution_count": 14,
   "metadata": {},
   "outputs": [
    {
     "name": "stderr",
     "output_type": "stream",
     "text": [
      "/home/CAMPUS/jrab2017/anaconda3/lib/python3.7/site-packages/joblib/numpy_pickle.py:104: DeprecationWarning: tostring() is deprecated. Use tobytes() instead.\n",
      "  pickler.file_handle.write(chunk.tostring('C'))\n",
      "/home/CAMPUS/jrab2017/anaconda3/lib/python3.7/site-packages/joblib/numpy_pickle.py:104: DeprecationWarning: tostring() is deprecated. Use tobytes() instead.\n",
      "  pickler.file_handle.write(chunk.tostring('C'))\n"
     ]
    },
    {
     "name": "stdout",
     "output_type": "stream",
     "text": [
      "Real News LDA Model saved as HTML File!\n"
     ]
    }
   ],
   "source": [
    "real_gensim_dictionary = gensim.corpora.Dictionary.load('real_gensim_dictionary.gensim')\n",
    "real_gensim_corpus = pickle.load(open(real_corpus_file, 'rb'))\n",
    "real_lda_model = gensim.models.ldamodel.LdaModel.load('real_gensim_model.gensim')\n",
    "\n",
    "\n",
    "real_lda_visualization = pyLDAvis.gensim_models.prepare(real_lda_model, real_gensim_corpus, real_gensim_dictionary, sort_topics=False)\n",
    "pyLDAvis.enable_notebook()\n",
    "pyLDAvis.save_html(real_lda_visualization, 'real_news_lda.html')\n",
    "print('Real News LDA Model saved as HTML File!')"
   ]
  },
  {
   "cell_type": "markdown",
   "metadata": {},
   "source": [
    "## Fake News"
   ]
  },
  {
   "cell_type": "markdown",
   "metadata": {},
   "source": [
    "### Creating the Model"
   ]
  },
  {
   "cell_type": "code",
   "execution_count": 15,
   "metadata": {},
   "outputs": [],
   "source": [
    "# Prepare relevant data \n",
    "fake_news = data_processed[data_processed['label'] == 'Fake']\n",
    "fake_text = fake_news['text']\n",
    "fake_gensim_dictionary = corpora.Dictionary(fake_text)\n",
    "\n",
    "# creating bag of words (bow) w/ fake text\n",
    "fake_gensim_corpus = [fake_gensim_dictionary.doc2bow(token, allow_update=True) for token in fake_text]\n",
    "\n",
    "#pickling useful for efficiently storing data to be used later\n",
    "fake_corpus_file = 'fake_gensim_corpus.pkl'\n",
    "pickle.dump(fake_gensim_corpus, open(fake_corpus_file, 'wb'))\n",
    "fake_gensim_dictionary.save('fake_gensim_dictionary.gensim')"
   ]
  },
  {
   "cell_type": "code",
   "execution_count": 16,
   "metadata": {},
   "outputs": [],
   "source": [
    "fake_lda_model = gensim.models.ldamodel.LdaModel(fake_gensim_corpus, num_topics=num_topics, id2word=fake_gensim_dictionary, passes=10)\n",
    "fake_lda_model.save('fake_gensim_model.gensim')"
   ]
  },
  {
   "cell_type": "code",
   "execution_count": 17,
   "metadata": {},
   "outputs": [
    {
     "name": "stdout",
     "output_type": "stream",
     "text": [
      "(0, '0.039*\"election\" + 0.035*\"vote\" + 0.029*\"voter\" + 0.026*\"sander\" + 0.023*\"clinton\"')\n",
      "(1, '0.008*\"u\" + 0.008*\"state\" + 0.007*\"government\" + 0.006*\"year\" + 0.006*\"american\"')\n",
      "(2, '0.025*\"player\" + 0.023*\"tax\" + 0.020*\"carson\" + 0.020*\"flag\" + 0.018*\"nfl\"')\n",
      "(3, '0.018*\"clinton\" + 0.009*\"fbi\" + 0.008*\"russian\" + 0.008*\"hillary\" + 0.007*\"email\"')\n",
      "(4, '0.046*\"u\" + 0.025*\"syria\" + 0.019*\"war\" + 0.018*\"military\" + 0.014*\"terrorist\"')\n",
      "(5, '0.013*\"president\" + 0.010*\"obama\" + 0.009*\"trump\" + 0.008*\"woman\" + 0.007*\"twitter\"')\n",
      "(6, '0.012*\"police\" + 0.010*\"said\" + 0.009*\"black\" + 0.006*\"officer\" + 0.005*\"one\"')\n",
      "(7, '0.042*\"trump\" + 0.009*\"donald\" + 0.009*\"president\" + 0.009*\"people\" + 0.008*\"like\"')\n",
      "(8, '0.018*\"medium\" + 0.016*\"news\" + 0.012*\"wire\" + 0.010*\"story\" + 0.007*\"century\"')\n",
      "(9, '0.012*\"republican\" + 0.010*\"court\" + 0.009*\"law\" + 0.009*\"would\" + 0.009*\"right\"')\n"
     ]
    }
   ],
   "source": [
    "#Print 5 words per topic\n",
    "fake_topics = fake_lda_model.print_topics(num_words=5)\n",
    "for fake_topic in fake_topics:\n",
    "    print(fake_topic)"
   ]
  },
  {
   "cell_type": "markdown",
   "metadata": {},
   "source": [
    "### Evaluation and Visualization"
   ]
  },
  {
   "cell_type": "code",
   "execution_count": 18,
   "metadata": {},
   "outputs": [
    {
     "name": "stdout",
     "output_type": "stream",
     "text": [
      "\n",
      "Perplexity: -9.091352163403648\n",
      "\n",
      "Coherence Score: 0.4680541369003371\n"
     ]
    }
   ],
   "source": [
    "coherence_score_lda = CoherenceModel(model=fake_lda_model, texts= fake_text, dictionary=fake_gensim_dictionary, coherence='c_v')\n",
    "coherence_score = coherence_score_lda.get_coherence()\n",
    "\n",
    "print('\\nPerplexity:', fake_lda_model.log_perplexity(fake_gensim_corpus))\n",
    "print('\\nCoherence Score:', coherence_score)"
   ]
  },
  {
   "cell_type": "code",
   "execution_count": 19,
   "metadata": {},
   "outputs": [
    {
     "name": "stderr",
     "output_type": "stream",
     "text": [
      "/home/CAMPUS/jrab2017/anaconda3/lib/python3.7/site-packages/joblib/numpy_pickle.py:104: DeprecationWarning: tostring() is deprecated. Use tobytes() instead.\n",
      "  pickler.file_handle.write(chunk.tostring('C'))\n",
      "/home/CAMPUS/jrab2017/anaconda3/lib/python3.7/site-packages/joblib/numpy_pickle.py:104: DeprecationWarning: tostring() is deprecated. Use tobytes() instead.\n",
      "  pickler.file_handle.write(chunk.tostring('C'))\n"
     ]
    },
    {
     "name": "stdout",
     "output_type": "stream",
     "text": [
      "Fake News LDA Model saved as HTML File!\n"
     ]
    }
   ],
   "source": [
    "fake_gensim_dictionary = gensim.corpora.Dictionary.load('fake_gensim_dictionary.gensim')\n",
    "fake_gensim_corpus = pickle.load(open(fake_corpus_file, 'rb'))\n",
    "fake_lda_model = gensim.models.ldamodel.LdaModel.load('fake_gensim_model.gensim')\n",
    "\n",
    "fake_lda_visualization = pyLDAvis.gensim_models.prepare(fake_lda_model, fake_gensim_corpus, fake_gensim_dictionary, sort_topics=False)\n",
    "pyLDAvis.enable_notebook()\n",
    "pyLDAvis.save_html(fake_lda_visualization, 'fake_news_lda.html')\n",
    "print('Fake News LDA Model saved as HTML File!')"
   ]
  },
  {
   "cell_type": "code",
   "execution_count": null,
   "metadata": {},
   "outputs": [],
   "source": []
  }
 ],
 "metadata": {
  "kernelspec": {
   "display_name": "Python 3",
   "language": "python",
   "name": "python3"
  },
  "language_info": {
   "codemirror_mode": {
    "name": "ipython",
    "version": 3
   },
   "file_extension": ".py",
   "mimetype": "text/x-python",
   "name": "python",
   "nbconvert_exporter": "python",
   "pygments_lexer": "ipython3",
   "version": "3.7.6"
  },
  "metadata": {
   "interpreter": {
    "hash": "10204038df05068d31bf1ae3a20e37075375f2e1f68f8a0c7c018d5491aaf462"
   }
  }
 },
 "nbformat": 4,
 "nbformat_minor": 2
}
