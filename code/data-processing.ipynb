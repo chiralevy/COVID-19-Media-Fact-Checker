{
 "cells": [
  {
   "cell_type": "code",
   "execution_count": 19,
   "metadata": {},
   "outputs": [],
   "source": [
    "import numpy as np \n",
    "import pandas as pd\n",
    "import spacy \n",
    "import matplotlib.pyplot as plt \n",
    "import seaborn as sns "
   ]
  },
  {
   "cell_type": "code",
   "execution_count": 22,
   "metadata": {},
   "outputs": [
    {
     "name": "stdout",
     "output_type": "stream",
     "text": [
      "<class 'pandas.core.frame.DataFrame'>\n",
      "Int64Index: 44898 entries, 0 to 44897\n",
      "Data columns (total 4 columns):\n",
      " #   Column   Non-Null Count  Dtype \n",
      "---  ------   --------------  ----- \n",
      " 0   title    44898 non-null  object\n",
      " 1   text     44898 non-null  object\n",
      " 2   subject  44898 non-null  object\n",
      " 3   date     44898 non-null  object\n",
      "dtypes: object(4)\n",
      "memory usage: 1.7+ MB\n"
     ]
    }
   ],
   "source": [
    "data = pd.read_csv('../data/combined_news.csv')\n",
    "data.dropna(inplace=True)\n",
    "data.info()"
   ]
  },
  {
   "cell_type": "code",
   "execution_count": null,
   "metadata": {},
   "outputs": [],
   "source": [
    "sns.countplot(data['label'])"
   ]
  },
  {
   "cell_type": "code",
   "execution_count": 23,
   "metadata": {},
   "outputs": [
    {
     "name": "stderr",
     "output_type": "stream",
     "text": [
      "C:\\Users\\Hussein\\anaconda3\\lib\\site-packages\\seaborn\\distributions.py:2557: FutureWarning: `distplot` is a deprecated function and will be removed in a future version. Please adapt your code to use either `displot` (a figure-level function with similar flexibility) or `histplot` (an axes-level function for histograms).\n",
      "  warnings.warn(msg, FutureWarning)\n"
     ]
    },
    {
     "data": {
      "text/plain": [
       "count    44898.000000\n",
       "mean       415.760412\n",
       "std        361.648003\n",
       "min          1.000000\n",
       "25%        208.000000\n",
       "50%        371.000000\n",
       "75%        525.000000\n",
       "max       8436.000000\n",
       "Name: length, dtype: float64"
      ]
     },
     "execution_count": 23,
     "metadata": {},
     "output_type": "execute_result"
    },
    {
     "data": {
      "image/png": "[encoded data removed]",
      "text/plain": [
       "<Figure size 432x288 with 1 Axes>"
      ]
     },
     "metadata": {
      "needs_background": "light"
     },
     "output_type": "display_data"
    }
   ],
   "source": [
    "data['length'] = data['text'].apply(lambda x: len(x.split(' ')))\n",
    "sns.distplot(data['length'])\n",
    "data['length'].describe()"
   ]
  },
  {
   "cell_type": "code",
   "execution_count": null,
   "metadata": {},
   "outputs": [],
   "source": []
  },
  {
   "cell_type": "code",
   "execution_count": 1,
   "metadata": {},
   "outputs": [],
   "source": [
    "import string\n",
    "import re\n",
    "from nltk import RegexpTokenizer\n",
    "from nltk.stem.porter import PorterStemmer\n",
    "from nltk.corpus import stopwords"
   ]
  },
  {
   "cell_type": "code",
   "execution_count": 16,
   "metadata": {},
   "outputs": [],
   "source": [
    "# main tokenizing function\n",
    "def tokenize_line(line, chars_to_exclude, stopwords, tokenizer, stem_tokens=False, stemmer=None):\n",
    "    # removing unwanted characters and numbers from the string\n",
    "    pattern = '[' + '|'.join(list(chars_to_exclude)) + '|\\d]*'\n",
    "    line = re.sub(pattern, \"\", line).lower()\n",
    "    \n",
    "    # generating tokens\n",
    "    tokens = [token for token in tokenizer.tokenize(line) if token not in stopwords]\n",
    "    \n",
    "    # stemming the tokens if the user wants to\n",
    "    if stem_tokens:\n",
    "        tokens = [stemmer.stem(token) for token in tokens]\n",
    "    \n",
    "    return tokens"
   ]
  },
  {
   "cell_type": "code",
   "execution_count": 12,
   "metadata": {},
   "outputs": [],
   "source": [
    "# function to help with tokenizing columns\n",
    "def tokenize_lines(lines, chars_to_exclude, stopwords, tokenizer=None, stem_tokens=False, stemmer=None):\n",
    "    all_tokens = [tokenize_line(line, chars_to_exclude, stopwords, tokenizer, stem_tokens, stemmer) for line in lines]\n",
    "    return all_tokens"
   ]
  },
  {
   "cell_type": "code",
   "execution_count": 11,
   "metadata": {},
   "outputs": [],
   "source": [
    "# the default parameters for now\n",
    "def get_default_tokenization_params():\n",
    "    chars_to_exclude = string.punctuation\n",
    "    english_stopwords = set(stopwords.words('english'))\n",
    "    tokenizer = RegexpTokenizer(\"\\w+\")\n",
    "    stem_tokens = True\n",
    "    stemmer = PorterStemmer()\n",
    "    return (chars_to_exclude, english_stopwords, tokenizer, stem_tokens, stemmer)"
   ]
  },
  {
   "cell_type": "code",
   "execution_count": 24,
   "metadata": {},
   "outputs": [],
   "source": [
    "# example run"
   ]
  },
  {
   "cell_type": "code",
   "execution_count": 26,
   "metadata": {},
   "outputs": [
    {
     "data": {
      "text/plain": [
       "'Donald Trump has a white supremacy problem, and now it is causing Great Britain, America s closest ally, to rebuke him in an historically public way. After Trump retweeted the leader of Britain First, a fascist white nationalist group, Prime Minister Theresa May decided she had had enough. She publicly criticized Trump, and made it clear that she in no way approved of his identifying with Britain First. May said of Trump s tweets: The fact that we work together does not mean that we re afraid to say when we think the United States has got it wrong, and be very clear with them. And I m very clear that retweeting from Britain First was the wrong thing to do. May went on to call Britain First a  hateful organization  that has caused division in her nation. Now, it seems that a so-called  working visit  that had been planned soon for Trump in Britain will now be cancelled.Trump, of course, instead of trying to patch things up in the  special relationship  that has always existed between the United States and Great Britain, decided to attack the Prime Minister of our closest and most important ally   again, of course, via Twitter:.@Theresa_May, don t focus on me, focus on the destructive Radical Islamic Terrorism that is taking place within the United Kingdom. We are doing just fine!  Donald J. Trump (@realDonaldTrump) November 30, 2017Donald Trump is an absolute disgrace. He is shredding America s international relationships, and painting us as a country full of bigoted, knuckle-dragging morons in front of the entire world. No matter who cancelled the visit to the UK for Trump, they were right to do so. The UK s citizens are right to be outraged that this buffoon was set to come to their great nation. Now, if only we Americans could get rid of him in the same way. We can hope.Featured image via Thomas Lohnes/Getty Images'"
      ]
     },
     "execution_count": 26,
     "metadata": {},
     "output_type": "execute_result"
    }
   ],
   "source": [
    "data.loc[47].text"
   ]
  },
  {
   "cell_type": "code",
   "execution_count": 30,
   "metadata": {},
   "outputs": [
    {
     "data": {
      "text/plain": [
       "['donald',\n",
       " 'trump',\n",
       " 'white',\n",
       " 'supremaci',\n",
       " 'problem',\n",
       " 'caus',\n",
       " 'great',\n",
       " 'britain',\n",
       " 'america',\n",
       " 'closest',\n",
       " 'alli',\n",
       " 'rebuk',\n",
       " 'histor',\n",
       " 'public',\n",
       " 'way',\n",
       " 'trump',\n",
       " 'retweet',\n",
       " 'leader',\n",
       " 'britain',\n",
       " 'first',\n",
       " 'fascist',\n",
       " 'white',\n",
       " 'nationalist',\n",
       " 'group',\n",
       " 'prime',\n",
       " 'minist',\n",
       " 'theresa',\n",
       " 'may',\n",
       " 'decid',\n",
       " 'enough',\n",
       " 'publicli',\n",
       " 'critic',\n",
       " 'trump',\n",
       " 'made',\n",
       " 'clear',\n",
       " 'way',\n",
       " 'approv',\n",
       " 'identifi',\n",
       " 'britain',\n",
       " 'first',\n",
       " 'may',\n",
       " 'said',\n",
       " 'trump',\n",
       " 'tweet',\n",
       " 'fact',\n",
       " 'work',\n",
       " 'togeth',\n",
       " 'mean',\n",
       " 'afraid',\n",
       " 'say',\n",
       " 'think',\n",
       " 'unit',\n",
       " 'state',\n",
       " 'got',\n",
       " 'wrong',\n",
       " 'clear',\n",
       " 'clear',\n",
       " 'retweet',\n",
       " 'britain',\n",
       " 'first',\n",
       " 'wrong',\n",
       " 'thing',\n",
       " 'may',\n",
       " 'went',\n",
       " 'call',\n",
       " 'britain',\n",
       " 'first',\n",
       " 'hate',\n",
       " 'organ',\n",
       " 'caus',\n",
       " 'divis',\n",
       " 'nation',\n",
       " 'seem',\n",
       " 'call',\n",
       " 'work',\n",
       " 'visit',\n",
       " 'plan',\n",
       " 'soon',\n",
       " 'trump',\n",
       " 'britain',\n",
       " 'cancelledtrump',\n",
       " 'cours',\n",
       " 'instead',\n",
       " 'tri',\n",
       " 'patch',\n",
       " 'thing',\n",
       " 'special',\n",
       " 'relationship',\n",
       " 'alway',\n",
       " 'exist',\n",
       " 'unit',\n",
       " 'state',\n",
       " 'great',\n",
       " 'britain',\n",
       " 'decid',\n",
       " 'attack',\n",
       " 'prime',\n",
       " 'minist',\n",
       " 'closest',\n",
       " 'import',\n",
       " 'alli',\n",
       " 'cours',\n",
       " 'via',\n",
       " 'twittertheresamay',\n",
       " 'focu',\n",
       " 'focu',\n",
       " 'destruct',\n",
       " 'radic',\n",
       " 'islam',\n",
       " 'terror',\n",
       " 'take',\n",
       " 'place',\n",
       " 'within',\n",
       " 'unit',\n",
       " 'kingdom',\n",
       " 'fine',\n",
       " 'donald',\n",
       " 'j',\n",
       " 'trump',\n",
       " 'realdonaldtrump',\n",
       " 'novemb',\n",
       " 'donald',\n",
       " 'trump',\n",
       " 'absolut',\n",
       " 'disgrac',\n",
       " 'shred',\n",
       " 'america',\n",
       " 'intern',\n",
       " 'relationship',\n",
       " 'paint',\n",
       " 'us',\n",
       " 'countri',\n",
       " 'full',\n",
       " 'bigot',\n",
       " 'knuckl',\n",
       " 'drag',\n",
       " 'moron',\n",
       " 'front',\n",
       " 'entir',\n",
       " 'world',\n",
       " 'matter',\n",
       " 'cancel',\n",
       " 'visit',\n",
       " 'uk',\n",
       " 'trump',\n",
       " 'right',\n",
       " 'uk',\n",
       " 'citizen',\n",
       " 'right',\n",
       " 'outrag',\n",
       " 'buffoon',\n",
       " 'set',\n",
       " 'come',\n",
       " 'great',\n",
       " 'nation',\n",
       " 'american',\n",
       " 'could',\n",
       " 'get',\n",
       " 'rid',\n",
       " 'way',\n",
       " 'hopefeatur',\n",
       " 'imag',\n",
       " 'via',\n",
       " 'thoma',\n",
       " 'lohnesgetti',\n",
       " 'imag']"
      ]
     },
     "execution_count": 30,
     "metadata": {},
     "output_type": "execute_result"
    }
   ],
   "source": [
    "tokenize_line(data.loc[47].text, *get_default_tokenization_params())"
   ]
  },
  {
   "cell_type": "code",
   "execution_count": null,
   "metadata": {},
   "outputs": [],
   "source": []
  },
  {
   "cell_type": "code",
   "execution_count": 27,
   "metadata": {},
   "outputs": [
    {
     "data": {
      "text/plain": [
       "' Trump Gets An Epic F**ck You From Britain Over His White Supremacist Retweets'"
      ]
     },
     "execution_count": 27,
     "metadata": {},
     "output_type": "execute_result"
    }
   ],
   "source": [
    "data.loc[47].title"
   ]
  },
  {
   "cell_type": "code",
   "execution_count": 29,
   "metadata": {},
   "outputs": [
    {
     "data": {
      "text/plain": [
       "['trump', 'get', 'epic', 'fck', 'britain', 'white', 'supremacist', 'retweet']"
      ]
     },
     "execution_count": 29,
     "metadata": {},
     "output_type": "execute_result"
    }
   ],
   "source": [
    "tokenize_line(data.loc[47].title, *get_default_tokenization_params())"
   ]
  },
  {
   "cell_type": "code",
   "execution_count": null,
   "metadata": {},
   "outputs": [],
   "source": []
  }
 ],
 "metadata": {
  "kernelspec": {
   "display_name": "Python 3",
   "language": "python",
   "name": "python3"
  },
  "language_info": {
   "codemirror_mode": {
    "name": "ipython",
    "version": 3
   },
   "file_extension": ".py",
   "mimetype": "text/x-python",
   "name": "python",
   "nbconvert_exporter": "python",
   "pygments_lexer": "ipython3",
   "version": "3.7.10"
  }
 },
 "nbformat": 4,
 "nbformat_minor": 2
}
