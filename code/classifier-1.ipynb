{
 "cells": [
  {
   "cell_type": "code",
   "execution_count": 1,
   "metadata": {},
   "outputs": [],
   "source": [
    "# First step is to import all of the necessary libraries for this experiment\n",
    "\n",
    "import tensorflow as tf\n",
    "import random\n",
    "import numpy as np\n",
    "import pandas as pd\n",
    "import matplotlib.image  as mpimg\n",
    "import matplotlib.pyplot as plt\n",
    "import io\n",
    "\n",
    "from sklearn.model_selection import train_test_split\n",
    "from sklearn.utils import shuffle\n",
    "from sklearn.metrics import accuracy_score\n",
    "from sklearn.metrics import confusion_matrix, classification_report\n",
    "from tensorflow.keras.preprocessing.text import Tokenizer\n",
    "from tensorflow.keras.preprocessing.sequence import pad_sequences\n",
    "from tensorflow.keras.utils import to_categorical\n",
    "from tensorflow.keras import regularizers\n",
    "from tensorflow.keras import backend as K "
   ]
  },
  {
   "cell_type": "markdown",
   "metadata": {},
   "source": [
    "## Preprocessing the Text Data"
   ]
  },
  {
   "cell_type": "code",
   "execution_count": 2,
   "metadata": {},
   "outputs": [
    {
     "name": "stdout",
     "output_type": "stream",
     "text": [
      "<class 'pandas.core.frame.DataFrame'>\n",
      "RangeIndex: 44898 entries, 0 to 44897\n",
      "Data columns (total 5 columns):\n",
      " #   Column   Non-Null Count  Dtype \n",
      "---  ------   --------------  ----- \n",
      " 0   title    44898 non-null  object\n",
      " 1   text     44898 non-null  object\n",
      " 2   subject  44898 non-null  object\n",
      " 3   date     44898 non-null  object\n",
      " 4   label    44898 non-null  int64 \n",
      "dtypes: int64(1), object(4)\n",
      "memory usage: 1.7+ MB\n"
     ]
    }
   ],
   "source": [
    "data = pd.read_csv('/raid/tft-data/data/combined_news.csv')\n",
    "data = data.fillna(' ')\n",
    "\n",
    "# converting labels from strings to ints\n",
    "data[\"label\"].replace({\"Real\": 1, \"Fake\": 0}, inplace=True)\n",
    "\n",
    "data.info()"
   ]
  },
  {
   "cell_type": "code",
   "execution_count": 3,
   "metadata": {},
   "outputs": [],
   "source": [
    "# Tokenizing Data\n",
    "tokenizer = Tokenizer()\n",
    "tokenizer.fit_on_texts(data['text'])\n",
    "word_index = tokenizer.word_index\n",
    "vocab_size=len(word_index)\n",
    "max_seq_length = 512 \n",
    "\n",
    "# Padding data\n",
    "# Keras prefers inputs to be vectorized and all inputs to have the same length. \n",
    "# We will pad all input sequences to have the lengthWe will pad all input sequences to have specific length\n",
    "sequences = tokenizer.texts_to_sequences(data['text'])\n",
    "padded = pad_sequences(sequences, maxlen=max_seq_length, padding='post', truncating='post')"
   ]
  },
  {
   "cell_type": "code",
   "execution_count": 4,
   "metadata": {},
   "outputs": [],
   "source": [
    "# Compartmentalizing data into training set and testing set\n",
    "split = 0.2\n",
    "split_n = int(round(len(padded)*(1-split),0))\n",
    "\n",
    "X = padded[:split_n]\n",
    "y = data['label'].values[:split_n]\n",
    "\n",
    "from sklearn.model_selection import train_test_split\n",
    "X_train, X_test, y_train, y_test = train_test_split(X, y, test_size=0.3, random_state=42)\n",
    "X_train, X_valid, y_train, y_valid = train_test_split(X_train, y_train, test_size=0.2, random_state=42)"
   ]
  },
  {
   "cell_type": "code",
   "execution_count": 5,
   "metadata": {},
   "outputs": [
    {
     "name": "stdout",
     "output_type": "stream",
     "text": [
      "100\n"
     ]
    }
   ],
   "source": [
    "# Using Pre-Trained GloVe for Keras embedding layer\n",
    "embeddings_index = {};\n",
    "with open('/raid/tft-data/Glove/glove.6B.100d.txt') as f:\n",
    "    for line in f:\n",
    "        values = line.split();\n",
    "        word = values[0];\n",
    "        coefs = np.asarray(values[1:], dtype='float32');\n",
    "        embeddings_index[word] = coefs;\n",
    "print(len(coefs))\n",
    "\n",
    "embeddings_matrix = np.zeros((vocab_size+1, 100));\n",
    "for word, i in word_index.items():\n",
    "    embedding_vector = embeddings_index.get(word);\n",
    "    if embedding_vector is not None:\n",
    "        embeddings_matrix[i] = embedding_vector;"
   ]
  },
  {
   "cell_type": "code",
   "execution_count": 6,
   "metadata": {},
   "outputs": [
    {
     "name": "stdout",
     "output_type": "stream",
     "text": [
      "Model: \"sequential\"\n",
      "_________________________________________________________________\n",
      "Layer (type)                 Output Shape              Param #   \n",
      "=================================================================\n",
      "embedding (Embedding)        (None, None, 100)         13802200  \n",
      "_________________________________________________________________\n",
      "dropout (Dropout)            (None, None, 100)         0         \n",
      "_________________________________________________________________\n",
      "conv1d (Conv1D)              (None, None, 64)          32064     \n",
      "_________________________________________________________________\n",
      "max_pooling1d (MaxPooling1D) (None, None, 64)          0         \n",
      "_________________________________________________________________\n",
      "lstm (LSTM)                  (None, None, 20)          6800      \n",
      "_________________________________________________________________\n",
      "lstm_1 (LSTM)                (None, 20)                3280      \n",
      "_________________________________________________________________\n",
      "dropout_1 (Dropout)          (None, 20)                0         \n",
      "_________________________________________________________________\n",
      "dense (Dense)                (None, 512)               10752     \n",
      "_________________________________________________________________\n",
      "dropout_2 (Dropout)          (None, 512)               0         \n",
      "_________________________________________________________________\n",
      "dense_1 (Dense)              (None, 256)               131328    \n",
      "_________________________________________________________________\n",
      "dense_2 (Dense)              (None, 1)                 257       \n",
      "=================================================================\n",
      "Total params: 13,986,681\n",
      "Trainable params: 184,481\n",
      "Non-trainable params: 13,802,200\n",
      "_________________________________________________________________\n",
      "Epoch 1/5\n",
      "315/315 [==============================] - 41s 117ms/step - loss: 0.4562 - accuracy: 0.7799 - val_loss: 0.0629 - val_accuracy: 0.9809\n",
      "Epoch 2/5\n",
      "315/315 [==============================] - 36s 113ms/step - loss: 0.0644 - accuracy: 0.9802 - val_loss: 0.0314 - val_accuracy: 0.9889\n",
      "Epoch 3/5\n",
      "315/315 [==============================] - 35s 113ms/step - loss: 0.0274 - accuracy: 0.9927 - val_loss: 0.0249 - val_accuracy: 0.9938\n",
      "Epoch 4/5\n",
      "315/315 [==============================] - 36s 114ms/step - loss: 0.0104 - accuracy: 0.9971 - val_loss: 0.0055 - val_accuracy: 0.9990\n",
      "Epoch 5/5\n",
      "315/315 [==============================] - 35s 113ms/step - loss: 0.0047 - accuracy: 0.9988 - val_loss: 0.0058 - val_accuracy: 0.9986\n",
      "Training Complete\n"
     ]
    }
   ],
   "source": [
    "# Temporary model\n",
    "model = tf.keras.Sequential([\n",
    "    tf.keras.layers.Embedding(vocab_size+1, 100, weights=[embeddings_matrix], trainable=False),\n",
    "    tf.keras.layers.Dropout(0.2),\n",
    "    tf.keras.layers.Conv1D(64, 5, activation='relu'),\n",
    "    tf.keras.layers.MaxPooling1D(pool_size=4),\n",
    "    tf.keras.layers.LSTM(20, return_sequences=True),\n",
    "    tf.keras.layers.LSTM(20),\n",
    "    tf.keras.layers.Dropout(0.2),  \n",
    "    tf.keras.layers.Dense(512),\n",
    "    tf.keras.layers.Dropout(0.3),  \n",
    "    tf.keras.layers.Dense(256),\n",
    "    tf.keras.layers.Dense(1, activation='sigmoid')\n",
    "])\n",
    "\n",
    "#Training model\n",
    "model.compile(loss='binary_crossentropy',optimizer='adam',metrics=['accuracy'])\n",
    "model.summary()\n",
    "\n",
    "history = model.fit(X_train, y_train, epochs=5, batch_size=64, validation_data=(X_valid, y_valid))\n",
    "\n",
    "print(\"Training Complete\")"
   ]
  },
  {
   "cell_type": "code",
   "execution_count": 8,
   "metadata": {},
   "outputs": [
    {
     "data": {
      "image/png": "[encoded data removed]",
      "text/plain": [
       "<Figure size 432x288 with 1 Axes>"
      ]
     },
     "metadata": {
      "needs_background": "light"
     },
     "output_type": "display_data"
    },
    {
     "data": {
      "image/png": "[encoded data removed]",
      "text/plain": [
       "<Figure size 432x288 with 1 Axes>"
      ]
     },
     "metadata": {
      "needs_background": "light"
     },
     "output_type": "display_data"
    }
   ],
   "source": [
    "#Visualizing the Results\n",
    "plt.plot(history.history['accuracy'])\n",
    "plt.plot(history.history['val_accuracy'])\n",
    "plt.title('Model accuracy')\n",
    "plt.ylabel('Accuracy')\n",
    "plt.xlabel('Epoch')\n",
    "plt.legend(['Train', 'Test'], loc='upper left')\n",
    "plt.show()\n",
    "\n",
    "plt.plot(history.history['loss'])\n",
    "plt.plot(history.history['val_loss'])\n",
    "plt.title('Model loss')\n",
    "plt.ylabel('Loss')\n",
    "plt.xlabel('Epoch')\n",
    "plt.legend(['Train', 'Test'], loc='upper right')\n",
    "plt.show()"
   ]
  },
  {
   "cell_type": "code",
   "execution_count": 9,
   "metadata": {},
   "outputs": [
    {
     "name": "stderr",
     "output_type": "stream",
     "text": [
      "/home/CAMPUS/jrab2017/anaconda3/lib/python3.7/site-packages/tensorflow/python/keras/engine/sequential.py:450: UserWarning: `model.predict_classes()` is deprecated and will be removed after 2021-01-01. Please use instead:* `np.argmax(model.predict(x), axis=-1)`,   if your model does multi-class classification   (e.g. if it uses a `softmax` last-layer activation).* `(model.predict(x) > 0.5).astype(\"int32\")`,   if your model does binary classification   (e.g. if it uses a `sigmoid` last-layer activation).\n",
      "  warnings.warn('`model.predict_classes()` is deprecated and '\n"
     ]
    },
    {
     "name": "stdout",
     "output_type": "stream",
     "text": [
      "Confusion Matrix:\n",
      "[[3321    5]\n",
      " [   2 1701]]\n",
      "_________________________________________________\n",
      "Classification Report:\n",
      "              precision    recall  f1-score   support\n",
      "\n",
      "           0     0.9994    0.9985    0.9989      3326\n",
      "           1     0.9971    0.9988    0.9979      1703\n",
      "\n",
      "    accuracy                         0.9986      5029\n",
      "   macro avg     0.9982    0.9987    0.9984      5029\n",
      "weighted avg     0.9986    0.9986    0.9986      5029\n",
      "\n",
      "_________________________________________________\n",
      "Testing Results:\n",
      "              precision    recall  f1-score   support\n",
      "\n",
      "           0       1.00      1.00      1.00      7036\n",
      "           1       1.00      1.00      1.00      3740\n",
      "\n",
      "    accuracy                           1.00     10776\n",
      "   macro avg       1.00      1.00      1.00     10776\n",
      "weighted avg       1.00      1.00      1.00     10776\n",
      "\n"
     ]
    }
   ],
   "source": [
    "# Validation Results\n",
    "y_pred = model.predict_classes(X_valid)\n",
    "print('Confusion Matrix:')\n",
    "print(confusion_matrix(y_valid, y_pred))\n",
    "print('_________________________________________________')\n",
    "print('Classification Report:')\n",
    "print(classification_report(y_valid, y_pred, digits=4))\n",
    "print('_________________________________________________')\n",
    "\n",
    "# Testing the Results\n",
    "print('Testing Results:')\n",
    "y_pred_test = model.predict_classes(X_test)\n",
    "print(classification_report(y_test, y_pred_test))"
   ]
  },
  {
   "cell_type": "code",
   "execution_count": null,
   "metadata": {},
   "outputs": [],
   "source": []
  }
 ],
 "metadata": {
  "kernelspec": {
   "display_name": "Python 3",
   "language": "python",
   "name": "python3"
  },
  "language_info": {
   "codemirror_mode": {
    "name": "ipython",
    "version": 3
   },
   "file_extension": ".py",
   "mimetype": "text/x-python",
   "name": "python",
   "nbconvert_exporter": "python",
   "pygments_lexer": "ipython3",
   "version": "3.7.6"
  }
 },
 "nbformat": 4,
 "nbformat_minor": 4
}
